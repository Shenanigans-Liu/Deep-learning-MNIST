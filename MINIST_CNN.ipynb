{
 "cells": [
  {
   "cell_type": "code",
   "execution_count": 2,
   "metadata": {
    "collapsed": true
   },
   "outputs": [],
   "source": [
    "import numpy as np\n",
    "import struct\n",
    "import matplotlib.pyplot as plt"
   ]
  },
  {
   "cell_type": "code",
   "execution_count": 6,
   "metadata": {},
   "outputs": [],
   "source": [
    "def decode_idx3(dataset_file):\n",
    "    # read binary data\n",
    "    bin_data = open(dataset_file, 'rb').read()\n",
    "\n",
    "    # read headers, the order is: magic number, number of images, height, width\n",
    "    offset = 0\n",
    "    fmt_header = '>iiii'\n",
    "    magic_num, img_num, rows, cols = \\\n",
    "        struct.unpack_from(fmt_header, bin_data, offset)\n",
    "    print 'magic_num: %d, img_num: %d, image size: %d*%d' % \\\n",
    "          (magic_num, img_num, rows, cols)\n",
    "\n",
    "    #decode data\n",
    "    img_size = rows * cols\n",
    "    offset += struct.calcsize(fmt_header)\n",
    "    fmt_image = '>' + str(img_size) + 'B'\n",
    "    images = np.empty((img_num, rows, cols))\n",
    "    for i in range(img_num):\n",
    "        images[i] = np.array(struct.unpack_from(fmt_image, bin_data, offset))\\\n",
    "            .reshape((rows, cols))\n",
    "        offset += struct.calcsize(fmt_image)\n",
    "        if (i + 1) % 10000 == 0:\n",
    "            print 'Decoded %d' % (i + 1)\n",
    "    return images\n",
    "\n",
    "\n",
    "def decode_idx1(label_file):\n",
    "    # read binary data\n",
    "    bin_data = open(label_file, 'rb').read()\n",
    "\n",
    "    # read headers, the order is: magic number, number of images, height, width\n",
    "    offset = 0\n",
    "    fmt_header = '>ii'\n",
    "    magic_num, img_num = \\\n",
    "        struct.unpack_from(fmt_header, bin_data, offset)\n",
    "    print 'magic_num: %d, img_num: %d' % (magic_num, img_num)\n",
    "\n",
    "    #decode data\n",
    "    offset += struct.calcsize(fmt_header)\n",
    "    fmt_image = '>B'\n",
    "    labels = np.empty(img_num)\n",
    "    for i in range(img_num):\n",
    "        labels[i] = struct.unpack_from(fmt_image, bin_data, offset)[0]\n",
    "        offset += struct.calcsize(fmt_image)\n",
    "        if (i + 1) % 10000 == 0:\n",
    "            print 'Decoded %d' % (i + 1)\n",
    "    return labels"
   ]
  },
  {
   "cell_type": "code",
   "execution_count": 7,
   "metadata": {},
   "outputs": [
    {
     "name": "stdout",
     "output_type": "stream",
     "text": [
      "magic_num: 2051, img_num: 60000, image size: 28*28\n"
     ]
    },
    {
     "name": "stdout",
     "output_type": "stream",
     "text": [
      "Decoded 10000\n"
     ]
    },
    {
     "name": "stdout",
     "output_type": "stream",
     "text": [
      "Decoded 20000\n"
     ]
    },
    {
     "name": "stdout",
     "output_type": "stream",
     "text": [
      "Decoded 30000\n"
     ]
    },
    {
     "name": "stdout",
     "output_type": "stream",
     "text": [
      "Decoded 40000\n"
     ]
    },
    {
     "name": "stdout",
     "output_type": "stream",
     "text": [
      "Decoded 50000\n"
     ]
    },
    {
     "name": "stdout",
     "output_type": "stream",
     "text": [
      "Decoded 60000\nmagic_num: 2049, img_num: 60000\nDecoded 10000\nDecoded 20000\nDecoded 30000\nDecoded 40000\nDecoded 50000\nDecoded 60000\n"
     ]
    },
    {
     "name": "stdout",
     "output_type": "stream",
     "text": [
      "magic_num: 2051, img_num: 10000, image size: 28*28\n"
     ]
    },
    {
     "name": "stdout",
     "output_type": "stream",
     "text": [
      "Decoded 10000\nmagic_num: 2049, img_num: 10000\nDecoded 10000\n"
     ]
    }
   ],
   "source": [
    "train_data_file = 'train-images.idx3-ubyte'\n",
    "train_labels_file = 'train-labels.idx1-ubyte'\n",
    "test_data_file = 't10k-images.idx3-ubyte'\n",
    "test_labels_file = 't10k-labels.idx1-ubyte'\n",
    "\n",
    "train_dataset = decode_idx3(train_data_file)\n",
    "train_labels = decode_idx1(train_labels_file)\n",
    "test_dataset = decode_idx3(test_data_file)\n",
    "test_labels = decode_idx1(test_labels_file)"
   ]
  },
  {
   "cell_type": "code",
   "execution_count": 8,
   "metadata": {},
   "outputs": [],
   "source": [
    "def randomize(dataset, labels):\n",
    "    permutation = np.random.permutation(labels.shape[0])\n",
    "    shuffled_dataset = dataset[permutation,:,:]\n",
    "    shuffled_labels = labels[permutation]\n",
    "    return shuffled_dataset, shuffled_labels\n",
    "\n",
    "# Preprocessing\n",
    "# randomize both dataset and labels\n",
    "train_dataset, train_labels = randomize(train_dataset, train_labels)\n",
    "test_dataset, test_labels = randomize(test_dataset, test_labels)"
   ]
  },
  {
   "cell_type": "code",
   "execution_count": 9,
   "metadata": {},
   "outputs": [],
   "source": [
    "# Preprocessing\n",
    "# Turn pixel to binary\n",
    "train_dataset = (train_dataset[:,:,:] > 127) * 255.0\n",
    "test_dataset = (test_dataset[:,:,:] > 127) * 255.0"
   ]
  },
  {
   "cell_type": "code",
   "execution_count": 10,
   "metadata": {},
   "outputs": [],
   "source": [
    "# Preprocessing\n",
    "num_labels = 10\n",
    "\n",
    "# reshape labels to [0.0, 1.0, ..., 0.0]\n",
    "train_labels = np.arange(num_labels) == train_labels[:, None]\n",
    "test_labels = np.arange(num_labels) == test_labels[:, None]"
   ]
  },
  {
   "cell_type": "code",
   "execution_count": 11,
   "metadata": {},
   "outputs": [],
   "source": [
    "# Preprocessing\n",
    "# Zero mean and Normalize\n",
    "img_range = 255.0;\n",
    "train_dataset = 1.0 * (train_dataset - img_range / 2) / img_range\n",
    "test_dataset = 1.0 * (test_dataset - img_range / 2) / img_range"
   ]
  },
  {
   "cell_type": "code",
   "execution_count": 12,
   "metadata": {},
   "outputs": [],
   "source": [
    "# Preprocessing\n",
    "# split test dataset to valid and test two parts\n",
    "valid_dataset = test_dataset[:5000]\n",
    "valid_labels = test_labels[:5000]\n",
    "test_dataset = test_dataset[5000:10000]\n",
    "test_labels = test_labels[5000:10000]"
   ]
  },
  {
   "cell_type": "code",
   "execution_count": 15,
   "metadata": {},
   "outputs": [
    {
     "data": {
      "text/plain": [
       "(60000, 28, 28, 1)"
      ]
     },
     "execution_count": 15,
     "metadata": {},
     "output_type": "execute_result"
    }
   ],
   "source": [
    "train_dataset = train_dataset.reshape(\n",
    "    train_dataset.shape[0], image_size, image_size, 1)"
   ]
  },
  {
   "cell_type": "code",
   "execution_count": 18,
   "metadata": {},
   "outputs": [
    {
     "name": "stdout",
     "output_type": "stream",
     "text": [
      "Epoch 1/25\n"
     ]
    },
    {
     "name": "stdout",
     "output_type": "stream",
     "text": [
      "48s - loss: 2.2984 - acc: 0.1473\nEpoch 2/25\n"
     ]
    },
    {
     "name": "stdout",
     "output_type": "stream",
     "text": [
      "47s - loss: 2.2656 - acc: 0.2210\nEpoch 3/25\n"
     ]
    },
    {
     "name": "stdout",
     "output_type": "stream",
     "text": [
      "49s - loss: 1.9204 - acc: 0.3150\nEpoch 4/25\n"
     ]
    },
    {
     "name": "stdout",
     "output_type": "stream",
     "text": [
      "47s - loss: 1.3836 - acc: 0.5267\nEpoch 5/25\n"
     ]
    },
    {
     "name": "stdout",
     "output_type": "stream",
     "text": [
      "47s - loss: 0.9575 - acc: 0.6772\nEpoch 6/25\n"
     ]
    },
    {
     "name": "stdout",
     "output_type": "stream",
     "text": [
      "48s - loss: 0.7770 - acc: 0.7396\nEpoch 7/25\n"
     ]
    },
    {
     "name": "stdout",
     "output_type": "stream",
     "text": [
      "47s - loss: 0.6767 - acc: 0.7729\nEpoch 8/25\n"
     ]
    },
    {
     "name": "stdout",
     "output_type": "stream",
     "text": [
      "47s - loss: 0.6063 - acc: 0.7961\nEpoch 9/25\n"
     ]
    },
    {
     "name": "stdout",
     "output_type": "stream",
     "text": [
      "47s - loss: 0.5562 - acc: 0.8130\nEpoch 10/25\n"
     ]
    },
    {
     "name": "stdout",
     "output_type": "stream",
     "text": [
      "47s - loss: 0.5176 - acc: 0.8262\nEpoch 11/25\n"
     ]
    },
    {
     "name": "stdout",
     "output_type": "stream",
     "text": [
      "47s - loss: 0.4856 - acc: 0.8381\nEpoch 12/25\n"
     ]
    },
    {
     "name": "stdout",
     "output_type": "stream",
     "text": [
      "47s - loss: 0.4497 - acc: 0.8515\nEpoch 13/25\n"
     ]
    },
    {
     "name": "stdout",
     "output_type": "stream",
     "text": [
      "47s - loss: 0.4308 - acc: 0.8578\nEpoch 14/25\n"
     ]
    },
    {
     "name": "stdout",
     "output_type": "stream",
     "text": [
      "47s - loss: 0.4119 - acc: 0.8647\nEpoch 15/25\n"
     ]
    },
    {
     "name": "stdout",
     "output_type": "stream",
     "text": [
      "51s - loss: 0.3934 - acc: 0.8735\nEpoch 16/25\n"
     ]
    },
    {
     "name": "stdout",
     "output_type": "stream",
     "text": [
      "48s - loss: 0.3734 - acc: 0.8785\nEpoch 17/25\n"
     ]
    },
    {
     "name": "stdout",
     "output_type": "stream",
     "text": [
      "47s - loss: 0.3577 - acc: 0.8864\nEpoch 18/25\n"
     ]
    },
    {
     "name": "stdout",
     "output_type": "stream",
     "text": [
      "47s - loss: 0.3438 - acc: 0.8861\nEpoch 19/25\n"
     ]
    },
    {
     "name": "stdout",
     "output_type": "stream",
     "text": [
      "47s - loss: 0.3359 - acc: 0.8911\nEpoch 20/25\n"
     ]
    },
    {
     "name": "stdout",
     "output_type": "stream",
     "text": [
      "47s - loss: 0.3231 - acc: 0.8962\nEpoch 21/25\n"
     ]
    },
    {
     "name": "stdout",
     "output_type": "stream",
     "text": [
      "47s - loss: 0.3137 - acc: 0.9002\nEpoch 22/25\n"
     ]
    },
    {
     "name": "stdout",
     "output_type": "stream",
     "text": [
      "47s - loss: 0.2989 - acc: 0.9052\nEpoch 23/25\n"
     ]
    },
    {
     "name": "stdout",
     "output_type": "stream",
     "text": [
      "47s - loss: 0.2960 - acc: 0.9068\nEpoch 24/25\n"
     ]
    },
    {
     "name": "stdout",
     "output_type": "stream",
     "text": [
      "47s - loss: 0.2836 - acc: 0.9110\nEpoch 25/25\n"
     ]
    },
    {
     "name": "stdout",
     "output_type": "stream",
     "text": [
      "47s - loss: 0.2760 - acc: 0.9114\n"
     ]
    },
    {
     "data": {
      "text/plain": [
       "<keras.callbacks.History at 0x7f4eb73dc090>"
      ]
     },
     "execution_count": 18,
     "metadata": {},
     "output_type": "execute_result"
    }
   ],
   "source": [
    "import keras\n",
    "from keras.models import Sequential\n",
    "from keras.layers import Convolution2D\n",
    "from keras.layers import MaxPooling2D\n",
    "from keras.layers import Flatten\n",
    "from keras.layers import Dense\n",
    "from keras.preprocessing.image import ImageDataGenerator\n",
    "\n",
    "# Initialization\n",
    "image_size = 28\n",
    "truncatedN = keras.initializers.\\\n",
    "    TruncatedNormal(mean=0.0, stddev=0.05, seed=None)\n",
    "sgd = keras.optimizers.SGD(lr=0.01, decay=1e-6, momentum=0, nesterov=True)\n",
    "\n",
    "# Initialising the ANN\n",
    "classifier = Sequential()\n",
    "classifier.add(Convolution2D(32, (3, 3), input_shape=(image_size, image_size, 1),\n",
    "                             activation = 'relu', kernel_initializer=truncatedN))\n",
    "classifier.add(MaxPooling2D(pool_size = (2,2)))\n",
    "classifier.add(Convolution2D(32, (3, 3),\n",
    "                             activation = 'relu', kernel_initializer=truncatedN))\n",
    "classifier.add(MaxPooling2D(pool_size = (2,2)))\n",
    "classifier.add(Flatten())\n",
    "classifier.add(Dense(units=128, activation='relu', \n",
    "                     kernel_initializer=truncatedN))\n",
    "classifier.add(Dense(units=10, activation='softmax', \n",
    "                     kernel_initializer=truncatedN))\n",
    "\n",
    "# Compiling the ANN\n",
    "classifier.compile(optimizer = sgd, loss = 'categorical_crossentropy',\n",
    "                   metrics = ['accuracy'])\n",
    "\n",
    "\n",
    "datagen = ImageDataGenerator(\n",
    "    featurewise_center=False,\n",
    "    featurewise_std_normalization=False,\n",
    "    rotation_range=10,\n",
    "    width_shift_range=0.2,\n",
    "    height_shift_range=0.2,\n",
    "    horizontal_flip=True)\n",
    "\n",
    "# compute quantities required for featurewise normalization\n",
    "# (std, mean, and principal components if ZCA whitening is applied)\n",
    "datagen.fit(train_dataset)\n",
    "\n",
    "# fits the model on batches with real-time data augmentation:\n",
    "classifier.fit_generator(datagen.flow(\n",
    "    train_dataset, train_labels, batch_size=64), \n",
    "    steps_per_epoch=len(train_dataset) / 64, epochs=25, verbose=2)"
   ]
  },
  {
   "cell_type": "code",
   "execution_count": 20,
   "metadata": {},
   "outputs": [],
   "source": [
    "valid_dataset = valid_dataset.reshape(\n",
    "    valid_dataset.shape[0], image_size, image_size, 1)\n",
    "test_dataset = test_dataset.reshape(\n",
    "    test_dataset.shape[0], image_size, image_size, 1)\n",
    "\n",
    "# Predicting the Test set results\n",
    "y_pred_valid = classifier.predict(valid_dataset)\n",
    "y_pred_test = classifier.predict(test_dataset)\n",
    "\n",
    "sum = np.sum(np.argmax(y_pred_valid[i]) == np.argmax(valid_labels[i]) \n",
    "             for i in range(0, valid_labels.shape[0]))\n",
    "acc_valid = sum*1.0/5000\n",
    "sum = np.sum(np.argmax(y_pred_test[i]) == np.argmax(test_labels[i]) \n",
    "             for i in range(0, test_labels.shape[0]))\n",
    "acc_test = sum*1.0/5000"
   ]
  },
  {
   "cell_type": "code",
   "execution_count": 36,
   "metadata": {},
   "outputs": [],
   "source": [
    "test_data = test_dataset[1000].reshape(1, image_size, image_size, 1)"
   ]
  },
  {
   "cell_type": "code",
   "execution_count": 37,
   "metadata": {},
   "outputs": [
    {
     "data": {
      "text/plain": [
       "array([[  3.05748035e-05,   8.61559357e-08,   8.05468517e-06,\n          3.93664304e-05,   3.86036164e-03,   4.31162971e-06,\n          3.25071755e-06,   2.23221767e-04,   1.58394547e-03,\n          9.94246900e-01]], dtype=float32)"
      ]
     },
     "execution_count": 37,
     "metadata": {},
     "output_type": "execute_result"
    }
   ],
   "source": [
    "classifier.predict(test_data)"
   ]
  },
  {
   "cell_type": "code",
   "execution_count": 40,
   "metadata": {},
   "outputs": [
    {
     "data": {
      "image/png": "[encoded data removed]",
      "text/plain": [
       "<matplotlib.figure.Figure at 0x7f4eb4048450>"
      ]
     },
     "metadata": {},
     "output_type": "display_data"
    }
   ],
   "source": [
    "plt.imshow(test_data.reshape(image_size, image_size), cmap='gray')\n",
    "plt.show()"
   ]
  },
  {
   "cell_type": "code",
   "execution_count": 47,
   "metadata": {},
   "outputs": [
    {
     "data": {
      "image/png": "[encoded data removed]",
      "text/plain": [
       "<matplotlib.figure.Figure at 0x7f4eb3db4e10>"
      ]
     },
     "metadata": {},
     "output_type": "display_data"
    }
   ],
   "source": [
    "from scipy import misc\n",
    "num = misc.imread('download.png')\n",
    "num = num[:,:,0].reshape(image_size, image_size)\n",
    "plt.imshow(num, cmap='gray')\n",
    "plt.show()"
   ]
  },
  {
   "cell_type": "code",
   "execution_count": 48,
   "metadata": {},
   "outputs": [
    {
     "data": {
      "text/plain": [
       "array([[  1.02290763e-08,   6.46872156e-09,   5.26038320e-07,\n          6.02907221e-06,   5.96929422e-05,   2.30388787e-06,\n          8.84559004e-09,   9.98119242e-04,   2.98237521e-03,\n          9.95950937e-01]], dtype=float32)"
      ]
     },
     "execution_count": 48,
     "metadata": {},
     "output_type": "execute_result"
    }
   ],
   "source": [
    "num = num.reshape(1, image_size, image_size, 1)\n",
    "num = 1.0 * (num - 127.5) / 255.0\n",
    "classifier.predict(num)"
   ]
  },
  {
   "cell_type": "code",
   "execution_count": 1,
   "metadata": {},
   "outputs": [
    {
     "name": "stderr",
     "output_type": "stream",
     "text": [
      "Using TensorFlow backend.\n"
     ]
    },
    {
     "ename": "NameError",
     "evalue": "name 'classifier' is not defined",
     "traceback": [
      "\u001b[0;31m\u001b[0m",
      "\u001b[0;31mNameError\u001b[0mTraceback (most recent call last)",
      "\u001b[0;32m<ipython-input-1-bbde0e2e099b>\u001b[0m in \u001b[0;36m<module>\u001b[0;34m()\u001b[0m\n\u001b[1;32m      1\u001b[0m \u001b[0;31m# Save a keras model\u001b[0m\u001b[0;34m\u001b[0m\u001b[0;34m\u001b[0m\u001b[0m\n\u001b[1;32m      2\u001b[0m \u001b[0;32mfrom\u001b[0m \u001b[0mkeras\u001b[0m\u001b[0;34m.\u001b[0m\u001b[0mmodels\u001b[0m \u001b[0;32mimport\u001b[0m \u001b[0mload_model\u001b[0m\u001b[0;34m\u001b[0m\u001b[0m\n\u001b[0;32m----> 3\u001b[0;31m \u001b[0mclassifier\u001b[0m\u001b[0;34m.\u001b[0m\u001b[0msave_weights\u001b[0m\u001b[0;34m(\u001b[0m\u001b[0;34m'model.hdf5'\u001b[0m\u001b[0;34m)\u001b[0m\u001b[0;34m\u001b[0m\u001b[0m\n\u001b[0m\u001b[1;32m      4\u001b[0m \u001b[0;32mwith\u001b[0m \u001b[0mopen\u001b[0m\u001b[0;34m(\u001b[0m\u001b[0;34m'model.json'\u001b[0m\u001b[0;34m,\u001b[0m \u001b[0;34m'w'\u001b[0m\u001b[0;34m)\u001b[0m \u001b[0;32mas\u001b[0m \u001b[0mf\u001b[0m\u001b[0;34m:\u001b[0m\u001b[0;34m\u001b[0m\u001b[0m\n\u001b[1;32m      5\u001b[0m     \u001b[0mf\u001b[0m\u001b[0;34m.\u001b[0m\u001b[0mwrite\u001b[0m\u001b[0;34m(\u001b[0m\u001b[0mclassifier\u001b[0m\u001b[0;34m.\u001b[0m\u001b[0mto_json\u001b[0m\u001b[0;34m(\u001b[0m\u001b[0;34m)\u001b[0m\u001b[0;34m)\u001b[0m\u001b[0;34m\u001b[0m\u001b[0m\n",
      "\u001b[0;31mNameError\u001b[0m: name 'classifier' is not defined"
     ],
     "output_type": "error"
    }
   ],
   "source": [
    "# Save a keras model\n",
    "from keras.models import load_model\n",
    "classifier.save_weights('model.hdf5')\n",
    "with open('model.json', 'w') as f:\n",
    "    f.write(classifier.to_json())"
   ]
  },
  {
   "cell_type": "code",
   "execution_count": null,
   "metadata": {},
   "outputs": [],
   "source": [
    ""
   ]
  }
 ],
 "metadata": {
  "kernelspec": {
   "display_name": "Python 2",
   "language": "python",
   "name": "python2"
  },
  "language_info": {
   "codemirror_mode": {
    "name": "ipython",
    "version": 2.0
   },
   "file_extension": ".py",
   "mimetype": "text/x-python",
   "name": "python",
   "nbconvert_exporter": "python",
   "pygments_lexer": "ipython2",
   "version": "2.7.6"
  }
 },
 "nbformat": 4,
 "nbformat_minor": 0
}