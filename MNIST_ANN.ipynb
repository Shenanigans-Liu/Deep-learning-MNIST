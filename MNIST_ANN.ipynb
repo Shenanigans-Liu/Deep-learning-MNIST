{
 "cells": [
  {
   "cell_type": "code",
   "execution_count": 70,
   "metadata": {
    "collapsed": true
   },
   "outputs": [],
   "source": [
    "import numpy as np\n",
    "import struct\n",
    "import matplotlib.pyplot as plt"
   ]
  },
  {
   "cell_type": "code",
   "execution_count": 71,
   "metadata": {},
   "outputs": [],
   "source": [
    "def decode_idx3(dataset_file):\n",
    "    # read binary data\n",
    "    bin_data = open(dataset_file, 'rb').read()\n",
    "\n",
    "    # read headers, the order is: magic number, number of images, height, width\n",
    "    offset = 0\n",
    "    fmt_header = '>iiii'\n",
    "    magic_num, img_num, rows, cols = \\\n",
    "        struct.unpack_from(fmt_header, bin_data, offset)\n",
    "    print 'magic_num: %d, img_num: %d, image size: %d*%d' % \\\n",
    "          (magic_num, img_num, rows, cols)\n",
    "\n",
    "    #decode data\n",
    "    img_size = rows * cols\n",
    "    offset += struct.calcsize(fmt_header)\n",
    "    fmt_image = '>' + str(img_size) + 'B'\n",
    "    images = np.empty((img_num, rows, cols))\n",
    "    for i in range(img_num):\n",
    "        images[i] = np.array(struct.unpack_from(fmt_image, bin_data, offset))\\\n",
    "            .reshape((rows, cols))\n",
    "        offset += struct.calcsize(fmt_image)\n",
    "        if (i + 1) % 10000 == 0:\n",
    "            print 'Decoded %d' % (i + 1)\n",
    "    return images\n",
    "\n",
    "\n",
    "def decode_idx1(label_file):\n",
    "    # read binary data\n",
    "    bin_data = open(label_file, 'rb').read()\n",
    "\n",
    "    # read headers, the order is: magic number, number of images, height, width\n",
    "    offset = 0\n",
    "    fmt_header = '>ii'\n",
    "    magic_num, img_num = \\\n",
    "        struct.unpack_from(fmt_header, bin_data, offset)\n",
    "    print 'magic_num: %d, img_num: %d' % (magic_num, img_num)\n",
    "\n",
    "    #decode data\n",
    "    offset += struct.calcsize(fmt_header)\n",
    "    fmt_image = '>B'\n",
    "    labels = np.empty(img_num)\n",
    "    for i in range(img_num):\n",
    "        labels[i] = struct.unpack_from(fmt_image, bin_data, offset)[0]\n",
    "        offset += struct.calcsize(fmt_image)\n",
    "        if (i + 1) % 10000 == 0:\n",
    "            print 'Decoded %d' % (i + 1)\n",
    "    return labels"
   ]
  },
  {
   "cell_type": "code",
   "execution_count": 140,
   "metadata": {},
   "outputs": [
    {
     "name": "stdout",
     "output_type": "stream",
     "text": [
      "magic_num: 2051, img_num: 60000, image size: 28*28\n"
     ]
    },
    {
     "name": "stdout",
     "output_type": "stream",
     "text": [
      "Decoded 10000\n"
     ]
    },
    {
     "name": "stdout",
     "output_type": "stream",
     "text": [
      "Decoded 20000\n"
     ]
    },
    {
     "name": "stdout",
     "output_type": "stream",
     "text": [
      "Decoded 30000\n"
     ]
    },
    {
     "name": "stdout",
     "output_type": "stream",
     "text": [
      "Decoded 40000\n"
     ]
    },
    {
     "name": "stdout",
     "output_type": "stream",
     "text": [
      "Decoded 50000\n"
     ]
    },
    {
     "name": "stdout",
     "output_type": "stream",
     "text": [
      "Decoded 60000\nmagic_num: 2049, img_num: 60000\nDecoded 10000\nDecoded 20000\nDecoded 30000\nDecoded 40000\nDecoded 50000\nDecoded 60000\nmagic_num: 2051, img_num: 10000, image size: 28*28\n"
     ]
    },
    {
     "name": "stdout",
     "output_type": "stream",
     "text": [
      "Decoded 10000\nmagic_num: 2049, img_num: 10000\nDecoded 10000\n"
     ]
    }
   ],
   "source": [
    "train_data_file = 'train-images.idx3-ubyte'\n",
    "train_labels_file = 'train-labels.idx1-ubyte'\n",
    "test_data_file = 't10k-images.idx3-ubyte'\n",
    "test_labels_file = 't10k-labels.idx1-ubyte'\n",
    "\n",
    "train_dataset = decode_idx3(train_data_file)\n",
    "train_labels = decode_idx1(train_labels_file)\n",
    "test_dataset = decode_idx3(test_data_file)\n",
    "test_labels = decode_idx1(test_labels_file)"
   ]
  },
  {
   "cell_type": "code",
   "execution_count": 141,
   "metadata": {},
   "outputs": [],
   "source": [
    "def randomize(dataset, labels):\n",
    "    permutation = np.random.permutation(labels.shape[0])\n",
    "    shuffled_dataset = dataset[permutation,:,:]\n",
    "    shuffled_labels = labels[permutation]\n",
    "    return shuffled_dataset, shuffled_labels\n",
    "\n",
    "# Preprocessing\n",
    "# randomize both dataset and labels\n",
    "train_dataset, train_labels = randomize(train_dataset, train_labels)\n",
    "test_dataset, test_labels = randomize(test_dataset, test_labels)"
   ]
  },
  {
   "cell_type": "code",
   "execution_count": 142,
   "metadata": {},
   "outputs": [],
   "source": [
    "# Preprocessing\n",
    "# Turn pixel to binary\n",
    "train_dataset = (train_dataset[:,:,:] > 127) * 255.0\n",
    "test_dataset = (test_dataset[:,:,:] > 127) * 255.0"
   ]
  },
  {
   "cell_type": "code",
   "execution_count": 143,
   "metadata": {},
   "outputs": [],
   "source": [
    "# Preprocessing\n",
    "# reshape dataset from 28x28 to 1x784\n",
    "image_size = 28\n",
    "num_labels = 10\n",
    "\n",
    "train_dataset = train_dataset.\\\n",
    "    reshape((train_dataset.shape[0], image_size * image_size))\n",
    "test_dataset = test_dataset.\\\n",
    "    reshape((test_dataset.shape[0], image_size * image_size))\n",
    "# reshape labels to [0.0, 1.0, ..., 0.0]\n",
    "train_labels = np.arange(num_labels) == train_labels[:, None]\n",
    "test_labels = np.arange(num_labels) == test_labels[:, None]"
   ]
  },
  {
   "cell_type": "code",
   "execution_count": 144,
   "metadata": {},
   "outputs": [],
   "source": [
    "# Preprocessing\n",
    "# Zero mean and Normalize\n",
    "img_range = 255.0;\n",
    "train_dataset = 1.0 * (train_dataset - img_range / 2) / img_range\n",
    "test_dataset = 1.0 * (test_dataset - img_range / 2) / img_range"
   ]
  },
  {
   "cell_type": "code",
   "execution_count": 145,
   "metadata": {},
   "outputs": [],
   "source": [
    "# Preprocessing\n",
    "# split test dataset to valid and test two parts\n",
    "valid_dataset = test_dataset[:5000]\n",
    "valid_labels = test_labels[:5000]\n",
    "test_dataset = test_dataset[5000:10000]\n",
    "test_labels = test_labels[5000:10000]"
   ]
  },
  {
   "cell_type": "code",
   "execution_count": 120,
   "metadata": {},
   "outputs": [
    {
     "name": "stdout",
     "output_type": "stream",
     "text": [
      "Epoch 1/60\n"
     ]
    },
    {
     "name": "stdout",
     "output_type": "stream",
     "text": [
      "12s - loss: 0.9601 - acc: 0.7526\nEpoch 2/60\n"
     ]
    },
    {
     "name": "stdout",
     "output_type": "stream",
     "text": [
      "12s - loss: 0.5018 - acc: 0.8636\nEpoch 3/60\n"
     ]
    },
    {
     "name": "stdout",
     "output_type": "stream",
     "text": [
      "11s - loss: 0.4229 - acc: 0.8802\nEpoch 4/60\n"
     ]
    },
    {
     "name": "stdout",
     "output_type": "stream",
     "text": [
      "11s - loss: 0.3844 - acc: 0.8905\nEpoch 5/60\n"
     ]
    },
    {
     "name": "stdout",
     "output_type": "stream",
     "text": [
      "11s - loss: 0.3605 - acc: 0.8976\nEpoch 6/60\n"
     ]
    },
    {
     "name": "stdout",
     "output_type": "stream",
     "text": [
      "11s - loss: 0.3423 - acc: 0.9017\nEpoch 7/60\n"
     ]
    },
    {
     "name": "stdout",
     "output_type": "stream",
     "text": [
      "11s - loss: 0.3284 - acc: 0.9052\nEpoch 8/60\n"
     ]
    },
    {
     "name": "stdout",
     "output_type": "stream",
     "text": [
      "11s - loss: 0.3167 - acc: 0.9086\nEpoch 9/60\n"
     ]
    },
    {
     "name": "stdout",
     "output_type": "stream",
     "text": [
      "11s - loss: 0.3057 - acc: 0.9120\nEpoch 10/60\n"
     ]
    },
    {
     "name": "stdout",
     "output_type": "stream",
     "text": [
      "11s - loss: 0.2971 - acc: 0.9145\nEpoch 11/60\n"
     ]
    },
    {
     "name": "stdout",
     "output_type": "stream",
     "text": [
      "11s - loss: 0.2878 - acc: 0.9169\nEpoch 12/60\n"
     ]
    },
    {
     "name": "stdout",
     "output_type": "stream",
     "text": [
      "11s - loss: 0.2805 - acc: 0.9195\nEpoch 13/60\n"
     ]
    },
    {
     "name": "stdout",
     "output_type": "stream",
     "text": [
      "11s - loss: 0.2731 - acc: 0.9211\nEpoch 14/60\n"
     ]
    },
    {
     "name": "stdout",
     "output_type": "stream",
     "text": [
      "11s - loss: 0.2656 - acc: 0.9239\nEpoch 15/60\n"
     ]
    },
    {
     "name": "stdout",
     "output_type": "stream",
     "text": [
      "11s - loss: 0.2592 - acc: 0.9259\nEpoch 16/60\n"
     ]
    },
    {
     "name": "stdout",
     "output_type": "stream",
     "text": [
      "11s - loss: 0.2520 - acc: 0.9281\nEpoch 17/60\n"
     ]
    },
    {
     "name": "stdout",
     "output_type": "stream",
     "text": [
      "11s - loss: 0.2464 - acc: 0.9297\nEpoch 18/60\n"
     ]
    },
    {
     "name": "stdout",
     "output_type": "stream",
     "text": [
      "11s - loss: 0.2402 - acc: 0.9322\nEpoch 19/60\n"
     ]
    },
    {
     "name": "stdout",
     "output_type": "stream",
     "text": [
      "11s - loss: 0.2348 - acc: 0.9332\nEpoch 20/60\n"
     ]
    },
    {
     "name": "stdout",
     "output_type": "stream",
     "text": [
      "11s - loss: 0.2290 - acc: 0.9354\nEpoch 21/60\n"
     ]
    },
    {
     "name": "stdout",
     "output_type": "stream",
     "text": [
      "11s - loss: 0.2242 - acc: 0.9362\nEpoch 22/60\n"
     ]
    },
    {
     "name": "stdout",
     "output_type": "stream",
     "text": [
      "11s - loss: 0.2194 - acc: 0.9371\nEpoch 23/60\n"
     ]
    },
    {
     "name": "stdout",
     "output_type": "stream",
     "text": [
      "11s - loss: 0.2141 - acc: 0.9397\nEpoch 24/60\n"
     ]
    },
    {
     "name": "stdout",
     "output_type": "stream",
     "text": [
      "11s - loss: 0.2096 - acc: 0.9410\nEpoch 25/60\n"
     ]
    },
    {
     "name": "stdout",
     "output_type": "stream",
     "text": [
      "11s - loss: 0.2050 - acc: 0.9422\nEpoch 26/60\n"
     ]
    },
    {
     "name": "stdout",
     "output_type": "stream",
     "text": [
      "11s - loss: 0.2005 - acc: 0.9435\nEpoch 27/60\n"
     ]
    },
    {
     "name": "stdout",
     "output_type": "stream",
     "text": [
      "11s - loss: 0.1965 - acc: 0.9454\nEpoch 28/60\n"
     ]
    },
    {
     "name": "stdout",
     "output_type": "stream",
     "text": [
      "11s - loss: 0.1929 - acc: 0.9458\nEpoch 29/60\n"
     ]
    },
    {
     "name": "stdout",
     "output_type": "stream",
     "text": [
      "11s - loss: 0.1885 - acc: 0.9481\nEpoch 30/60\n"
     ]
    },
    {
     "name": "stdout",
     "output_type": "stream",
     "text": [
      "11s - loss: 0.1846 - acc: 0.9488\nEpoch 31/60\n"
     ]
    },
    {
     "name": "stdout",
     "output_type": "stream",
     "text": [
      "11s - loss: 0.1811 - acc: 0.9494\nEpoch 32/60\n"
     ]
    },
    {
     "name": "stdout",
     "output_type": "stream",
     "text": [
      "11s - loss: 0.1768 - acc: 0.9508\nEpoch 33/60\n"
     ]
    },
    {
     "name": "stdout",
     "output_type": "stream",
     "text": [
      "11s - loss: 0.1745 - acc: 0.9514\nEpoch 34/60\n"
     ]
    },
    {
     "name": "stdout",
     "output_type": "stream",
     "text": [
      "11s - loss: 0.1709 - acc: 0.9524\nEpoch 35/60\n"
     ]
    },
    {
     "name": "stdout",
     "output_type": "stream",
     "text": [
      "11s - loss: 0.1675 - acc: 0.9535\nEpoch 36/60\n"
     ]
    },
    {
     "name": "stdout",
     "output_type": "stream",
     "text": [
      "11s - loss: 0.1645 - acc: 0.9547\nEpoch 37/60\n"
     ]
    },
    {
     "name": "stdout",
     "output_type": "stream",
     "text": [
      "11s - loss: 0.1620 - acc: 0.9548\nEpoch 38/60\n"
     ]
    },
    {
     "name": "stdout",
     "output_type": "stream",
     "text": [
      "11s - loss: 0.1590 - acc: 0.9558\nEpoch 39/60\n"
     ]
    },
    {
     "name": "stdout",
     "output_type": "stream",
     "text": [
      "11s - loss: 0.1556 - acc: 0.9566\nEpoch 40/60\n"
     ]
    },
    {
     "name": "stdout",
     "output_type": "stream",
     "text": [
      "11s - loss: 0.1538 - acc: 0.9576\nEpoch 41/60\n"
     ]
    },
    {
     "name": "stdout",
     "output_type": "stream",
     "text": [
      "11s - loss: 0.1516 - acc: 0.9584\nEpoch 42/60\n"
     ]
    },
    {
     "name": "stdout",
     "output_type": "stream",
     "text": [
      "11s - loss: 0.1486 - acc: 0.9593\nEpoch 43/60\n"
     ]
    },
    {
     "name": "stdout",
     "output_type": "stream",
     "text": [
      "11s - loss: 0.1465 - acc: 0.9591\nEpoch 44/60\n"
     ]
    },
    {
     "name": "stdout",
     "output_type": "stream",
     "text": [
      "11s - loss: 0.1437 - acc: 0.9605\nEpoch 45/60\n"
     ]
    },
    {
     "name": "stdout",
     "output_type": "stream",
     "text": [
      "11s - loss: 0.1411 - acc: 0.9608\nEpoch 46/60\n"
     ]
    },
    {
     "name": "stdout",
     "output_type": "stream",
     "text": [
      "11s - loss: 0.1395 - acc: 0.9619\nEpoch 47/60\n"
     ]
    },
    {
     "name": "stdout",
     "output_type": "stream",
     "text": [
      "13s - loss: 0.1372 - acc: 0.9625\nEpoch 48/60\n"
     ]
    },
    {
     "name": "stdout",
     "output_type": "stream",
     "text": [
      "12s - loss: 0.1349 - acc: 0.9636\nEpoch 49/60\n"
     ]
    },
    {
     "name": "stdout",
     "output_type": "stream",
     "text": [
      "11s - loss: 0.1331 - acc: 0.9634\nEpoch 50/60\n"
     ]
    },
    {
     "name": "stdout",
     "output_type": "stream",
     "text": [
      "11s - loss: 0.1312 - acc: 0.9642\nEpoch 51/60\n"
     ]
    },
    {
     "name": "stdout",
     "output_type": "stream",
     "text": [
      "11s - loss: 0.1287 - acc: 0.9650\nEpoch 52/60\n"
     ]
    },
    {
     "name": "stdout",
     "output_type": "stream",
     "text": [
      "11s - loss: 0.1281 - acc: 0.9651\nEpoch 53/60\n"
     ]
    },
    {
     "name": "stdout",
     "output_type": "stream",
     "text": [
      "11s - loss: 0.1262 - acc: 0.9657\nEpoch 54/60\n"
     ]
    },
    {
     "name": "stdout",
     "output_type": "stream",
     "text": [
      "11s - loss: 0.1244 - acc: 0.9660\nEpoch 55/60\n"
     ]
    },
    {
     "name": "stdout",
     "output_type": "stream",
     "text": [
      "11s - loss: 0.1228 - acc: 0.9663\nEpoch 56/60\n"
     ]
    },
    {
     "name": "stdout",
     "output_type": "stream",
     "text": [
      "11s - loss: 0.1210 - acc: 0.9672\nEpoch 57/60\n"
     ]
    },
    {
     "name": "stdout",
     "output_type": "stream",
     "text": [
      "11s - loss: 0.1195 - acc: 0.9676\nEpoch 58/60\n"
     ]
    },
    {
     "name": "stdout",
     "output_type": "stream",
     "text": [
      "11s - loss: 0.1179 - acc: 0.9676\nEpoch 59/60\n"
     ]
    },
    {
     "name": "stdout",
     "output_type": "stream",
     "text": [
      "11s - loss: 0.1169 - acc: 0.9681\nEpoch 60/60\n"
     ]
    },
    {
     "name": "stdout",
     "output_type": "stream",
     "text": [
      "11s - loss: 0.1145 - acc: 0.9688\n"
     ]
    }
   ],
   "source": [
    "# Importing the Keras libraries and packages\n",
    "import keras\n",
    "from keras.models import Sequential\n",
    "from keras.layers import Dense\n",
    "from keras.layers import Dropout\n",
    "from keras.layers import regularizers\n",
    "\n",
    "# Initialization\n",
    "batch_size = 128\n",
    "sgd = keras.optimizers.SGD(lr=0.01, decay=1e-6, momentum=0, nesterov=True)\n",
    "truncatedN = keras.initializers.\\\n",
    "    TruncatedNormal(mean=0.0, stddev=0.05, seed=None)\n",
    "\n",
    "# Initialising the ANN\n",
    "classifier = Sequential()\n",
    "\n",
    "# Adding the input layer and the first hidden layer\n",
    "classifier.add(Dense(units = 1024, kernel_initializer = truncatedN,\n",
    "                     activation = 'relu', input_dim = image_size*image_size))\n",
    "classifier.add(Dropout(rate = 0.1))\n",
    "\n",
    "# Adding the output layer\n",
    "classifier.add(Dense(units = 10, kernel_initializer = truncatedN,\n",
    "                     activation = 'softmax'))\n",
    "\n",
    "# Compiling the ANN\n",
    "classifier.compile(optimizer = sgd, loss = 'categorical_crossentropy',\n",
    "                   metrics = ['accuracy'])\n",
    "\n",
    "# Fitting the ANN to the Training set\n",
    "hist = classifier.fit(train_dataset, train_labels, \n",
    "                      batch_size = batch_size, epochs = 60, verbose=2)"
   ]
  },
  {
   "cell_type": "code",
   "execution_count": 121,
   "metadata": {},
   "outputs": [],
   "source": [
    "# Predicting the Test set results\n",
    "y_pred_valid = classifier.predict(valid_dataset)\n",
    "y_pred_test = classifier.predict(test_dataset)\n",
    "\n",
    "sum = np.sum(np.argmax(y_pred_valid[i]) == np.argmax(valid_labels[i]) \n",
    "             for i in range(0, valid_labels.shape[0]))\n",
    "acc_valid = sum*1.0/5000\n",
    "sum = np.sum(np.argmax(y_pred_test[i]) == np.argmax(test_labels[i]) \n",
    "             for i in range(0, test_labels.shape[0]))\n",
    "acc_test = sum*1.0/5000"
   ]
  },
  {
   "cell_type": "code",
   "execution_count": 123,
   "metadata": {},
   "outputs": [
    {
     "data": {
      "text/plain": [
       "0.96260000000000001"
      ]
     },
     "execution_count": 123,
     "metadata": {},
     "output_type": "execute_result"
    }
   ],
   "source": [
    "acc_valid"
   ]
  },
  {
   "cell_type": "code",
   "execution_count": 125,
   "metadata": {},
   "outputs": [],
   "source": [
    "# Save a keras model\n",
    "from keras.models import load_model\n",
    "classifier.save_weights('model.hdf5')\n",
    "with open('model.json', 'w') as f:\n",
    "    f.write(classifier.to_json())"
   ]
  },
  {
   "cell_type": "code",
   "execution_count": 241,
   "metadata": {},
   "outputs": [
    {
     "data": {
      "image/png": "[encoded data removed]",
      "text/plain": [
       "<matplotlib.figure.Figure at 0x7f16ff6ce1d0>"
      ]
     },
     "metadata": {},
     "output_type": "display_data"
    },
    {
     "data": {
      "text/plain": [
       "array([False, False, False, False, False, False, False, False, False,  True], dtype=bool)"
      ]
     },
     "execution_count": 241,
     "metadata": {},
     "output_type": "execute_result"
    }
   ],
   "source": [
    "i = 765\n",
    "test_dataset = test_dataset.\\\n",
    "    reshape((test_dataset.shape[0], image_size, image_size))\n",
    "plt.imshow(test_dataset[i], cmap='gray')\n",
    "plt.show()\n",
    "test_labels[i]"
   ]
  },
  {
   "cell_type": "code",
   "execution_count": 196,
   "metadata": {},
   "outputs": [],
   "source": [
    "import scipy.misc\n",
    "scipy.misc.imsave('scream.jpg', test_dataset[i])"
   ]
  },
  {
   "cell_type": "code",
   "execution_count": 242,
   "metadata": {},
   "outputs": [
    {
     "data": {
      "text/plain": [
       "array([[  2.53082953e-06,   5.94123094e-07,   1.73660931e-06,\n          2.05144570e-05,   4.04496258e-03,   4.72685555e-04,\n          5.29221643e-06,   9.44128624e-05,   7.49195679e-05,\n          9.95282352e-01]], dtype=float32)"
      ]
     },
     "execution_count": 242,
     "metadata": {},
     "output_type": "execute_result"
    }
   ],
   "source": [
    "test_dataset = test_dataset.\\\n",
    "    reshape((test_dataset.shape[0], image_size * image_size))\n",
    "test_data = test_dataset[i]\n",
    "test_data = np.reshape(test_data, (1,image_size * image_size))\n",
    "test = classifier.predict(test_data)\n",
    "test"
   ]
  },
  {
   "cell_type": "code",
   "execution_count": 251,
   "metadata": {},
   "outputs": [
    {
     "data": {
      "text/plain": [
       "array([[ 0.00944976,  0.18227126,  0.05826655,  0.0203097 ,  0.01667609,\n         0.54963064,  0.0166122 ,  0.13090026,  0.00153703,  0.01434651]], dtype=float32)"
      ]
     },
     "execution_count": 253,
     "metadata": {},
     "output_type": "execute_result"
    }
   ],
   "source": [
    "from scipy import misc\n",
    "nine = misc.imread('download.png')\n",
    "nine = nine[:,:,0].reshape(image_size, image_size)\n",
    "plt.imshow(nine, cmap='gray')\n",
    "plt.show()"
   ]
  },
  {
   "cell_type": "code",
   "execution_count": 253,
   "metadata": {},
   "outputs": [
    {
     "data": {
      "text/plain": [
       "array([[ 0.00944976,  0.18227126,  0.05826655,  0.0203097 ,  0.01667609,\n         0.54963064,  0.0166122 ,  0.13090026,  0.00153703,  0.01434651]], dtype=float32)"
      ]
     },
     "execution_count": 253,
     "metadata": {},
     "output_type": "execute_result"
    }
   ],
   "source": [
    "nine = np.reshape(nine, (1, image_size * image_size))\n",
    "nine = 1.0 * (nine - 127.5) / 255.0\n",
    "test = classifier.predict(nine)\n",
    "test"
   ]
  },
  {
   "cell_type": "code",
   "execution_count": 249,
   "metadata": {},
   "outputs": [
    {
     "data": {
      "text/plain": [
       "(1, 784)"
      ]
     },
     "execution_count": 249,
     "metadata": {},
     "output_type": "execute_result"
    }
   ],
   "source": [
    "nine.shape"
   ]
  },
  {
   "cell_type": "code",
   "execution_count": null,
   "metadata": {},
   "outputs": [],
   "source": [
    ""
   ]
  }
 ],
 "metadata": {
  "kernelspec": {
   "display_name": "Python 2",
   "language": "python",
   "name": "python2"
  },
  "language_info": {
   "codemirror_mode": {
    "name": "ipython",
    "version": 2.0
   },
   "file_extension": ".py",
   "mimetype": "text/x-python",
   "name": "python",
   "nbconvert_exporter": "python",
   "pygments_lexer": "ipython2",
   "version": "2.7.6"
  }
 },
 "nbformat": 4,
 "nbformat_minor": 0
}